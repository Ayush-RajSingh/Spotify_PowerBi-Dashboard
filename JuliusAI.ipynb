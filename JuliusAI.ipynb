{
 "cells": [
  {
   "cell_type": "markdown",
   "id": "4656ea86",
   "metadata": {},
   "source": [
    "**user_message:**\n",
    "\n",
    "this is the dataset  about sportify track information \n",
    "i want to add a cloumn with URL of the songs or albumn cover"
   ]
  },
  {
   "cell_type": "markdown",
   "id": "121d78fa",
   "metadata": {},
   "source": [
    "**ai_message:**\n",
    "\n",
    "Certainly! I understand that you want to add a column with URLs for either the songs or album covers to the Spotify 2023 dataset. To do this, we'll need to use the Spotify API to fetch this information. Let's start by examining the dataset and then we'll use the Spotify API to add the requested URLs.\n",
    "\n",
    "First, let's take a look at the dataset:"
   ]
  },
  {
   "cell_type": "code",
   "execution_count": null,
   "id": "d9366afc",
   "metadata": {},
   "outputs": [],
   "source": [
    "import pandas as pd\n",
    "\n",
    "# Read the CSV file\n",
    "df = pd.read_csv('spotify-2023.csv', encoding='ISO-8859-1')\n",
    "\n",
    "# Display the first few rows and basic information about the dataset\n",
    "print(df.head())\n",
    "print(\"\\nDataset Info:\")\n",
    "print(df.info())"
   ]
  },
  {
   "cell_type": "markdown",
   "id": "156e3ddd",
   "metadata": {},
   "source": [
    "**ai_message:**\n",
    "\n",
    "\n",
    "\n",
    "I've loaded the Spotify 2023 dataset and displayed some basic information about it. The dataset contains information about various tracks, including their names, artists, release dates, and various metrics related to their popularity on different platforms.\n",
    "\n",
    "To add a column with URLs of the songs or album covers, we'll need to use the Spotify API. This will require us to set up authentication and use the `spotipy` library to interact with the API. Let's start by installing the necessary library and setting up the authentication."
   ]
  },
  {
   "cell_type": "code",
   "execution_count": null,
   "id": "0e162261",
   "metadata": {},
   "outputs": [],
   "source": [
    "%pip install spotipy\n",
    "\n",
    "import spotipy\n",
    "from spotipy.oauth2 import SpotifyClientCredentials\n",
    "import os\n",
    "\n",
    "# Set up Spotify API credentials\n",
    "# Note: In a real-world scenario, these should be stored securely, not in the code\n",
    "os.environ['SPOTIPY_CLIENT_ID'] = 'your_client_id'\n",
    "os.environ['SPOTIPY_CLIENT_SECRET'] = 'your_client_secret'\n",
    "\n",
    "# Initialize Spotify client\n",
    "client_credentials_manager = SpotifyClientCredentials()\n",
    "sp = spotipy.Spotify(client_credentials_manager=client_credentials_manager)\n",
    "\n",
    "print(\"Spotipy library installed and Spotify client initialized.\")"
   ]
  },
  {
   "cell_type": "markdown",
   "id": "f9f687ee",
   "metadata": {},
   "source": [
    "**ai_message:**\n",
    "\n",
    "The `spotipy` library has been successfully installed, and the Spotify client has been initialized. Now, we need to fetch the URLs for the songs or album covers using the Spotify API. \n",
    "\n",
    "Please provide your Spotify API credentials (Client ID and Client Secret) to proceed with fetching the URLs. If you don't have them, you can create an application on the [Spotify Developer Dashboard](https://developer.spotify.com/dashboard/) to obtain these credentials."
   ]
  },
  {
   "cell_type": "markdown",
   "id": "03ae1707",
   "metadata": {},
   "source": [
    "**user_message:**\n",
    "\n",
    "sure the client id is 8b8b4a4f96b14aa49ada749c5dcc255f\n",
    "and client secret is 1777e4a68e284956afc19ea7960f19a7"
   ]
  },
  {
   "cell_type": "markdown",
   "id": "1591bca2",
   "metadata": {},
   "source": [
    "**ai_message:**\n",
    "\n",
    "Thank you for providing the Spotify API credentials. I'll now use these to set up the Spotify client and add the URLs for the songs or album covers to our dataset."
   ]
  },
  {
   "cell_type": "code",
   "execution_count": null,
   "id": "11824130",
   "metadata": {},
   "outputs": [],
   "source": [
    "import os\n",
    "import pandas as pd\n",
    "import spotipy\n",
    "from spotipy.oauth2 import SpotifyClientCredentials\n",
    "from tqdm import tqdm\n",
    "\n",
    "# Set up Spotify API credentials\n",
    "os.environ['SPOTIPY_CLIENT_ID'] = '8b8b4a4f96b14aa49ada749c5dcc255f'\n",
    "os.environ['SPOTIPY_CLIENT_SECRET'] = '1777e4a68e284956afc19ea7960f19a7'\n",
    "\n",
    "# Initialize Spotify client\n",
    "client_credentials_manager = SpotifyClientCredentials()\n",
    "sp = spotipy.Spotify(client_credentials_manager=client_credentials_manager)\n",
    "\n",
    "# Read the CSV file\n",
    "df = pd.read_csv('spotify-2023.csv', encoding='ISO-8859-1')\n",
    "\n",
    "# Function to search for a track and get its URL and album cover\n",
    "def get_track_info(track_name, artist_name):\n",
    "    query = f\"track:{track_name} artist:{artist_name}\"\n",
    "    results = sp.search(q=query, type='track', limit=1)\n",
    "    \n",
    "    if results['tracks']['items']:\n",
    "        track = results['tracks']['items'][0]\n",
    "        track_url = track['external_urls']['spotify']\n",
    "        album_cover_url = track['album']['images'][0]['url'] if track['album']['images'] else None\n",
    "        return track_url, album_cover_url\n",
    "    return None, None\n",
    "\n",
    "# Add new columns for track URL and album cover URL\n",
    "df['track_url'] = ''\n",
    "df['album_cover_url'] = ''\n",
    "\n",
    "# Update the DataFrame with track and album cover URLs\n",
    "for index, row in tqdm(df.iterrows(), total=len(df), desc=\"Fetching URLs\"):\n",
    "    track_url, album_cover_url = get_track_info(row['track_name'], row['artist(s)_name'])\n",
    "    df.at[index, 'track_url'] = track_url\n",
    "    df.at[index, 'album_cover_url'] = album_cover_url\n",
    "\n",
    "# Display the first few rows of the updated DataFrame\n",
    "print(df[['track_name', 'artist(s)_name', 'track_url', 'album_cover_url']].head())\n",
    "\n",
    "# Save the updated DataFrame to a new CSV file\n",
    "df.to_csv('spotify-2023-with-urls.csv', index=False)\n",
    "print(\"\\nUpdated CSV file saved as 'spotify-2023-with-urls.csv'\")"
   ]
  },
  {
   "cell_type": "markdown",
   "id": "6cdf06bc",
   "metadata": {},
   "source": [
    "**ai_message:**\n",
    "\n",
    "It seems there was an issue connecting to the Spotify API, resulting in a \"503 Service Unavailable\" error. This could be due to a temporary issue with the Spotify servers or network connectivity.\n",
    "\n",
    "Let's try again to see if the issue persists. If it does, we might need to wait a bit and try again later. I'll attempt to reconnect and fetch the URLs once more."
   ]
  },
  {
   "cell_type": "code",
   "execution_count": null,
   "id": "d98dd7bc",
   "metadata": {},
   "outputs": [],
   "source": [
    "import os\n",
    "import pandas as pd\n",
    "import spotipy\n",
    "from spotipy.oauth2 import SpotifyClientCredentials\n",
    "from tqdm import tqdm\n",
    "\n",
    "# Set up Spotify API credentials\n",
    "os.environ['SPOTIPY_CLIENT_ID'] = '8b8b4a4f96b14aa49ada749c5dcc255f'\n",
    "os.environ['SPOTIPY_CLIENT_SECRET'] = '1777e4a68e284956afc19ea7960f19a7'\n",
    "\n",
    "# Initialize Spotify client\n",
    "client_credentials_manager = SpotifyClientCredentials()\n",
    "sp = spotipy.Spotify(client_credentials_manager=client_credentials_manager)\n",
    "\n",
    "# Read the CSV file\n",
    "df = pd.read_csv('spotify-2023.csv', encoding='ISO-8859-1')\n",
    "\n",
    "# Function to search for a track and get its URL and album cover\n",
    "def get_track_info(track_name, artist_name):\n",
    "    query = f\"track:{track_name} artist:{artist_name}\"\n",
    "    results = sp.search(q=query, type='track', limit=1)\n",
    "    \n",
    "    if results['tracks']['items']:\n",
    "        track = results['tracks']['items'][0]\n",
    "        track_url = track['external_urls']['spotify']\n",
    "        album_cover_url = track['album']['images'][0]['url'] if track['album']['images'] else None\n",
    "        return track_url, album_cover_url\n",
    "    return None, None\n",
    "\n",
    "# Add new columns for track URL and album cover URL\n",
    "df['track_url'] = ''\n",
    "df['album_cover_url'] = ''\n",
    "\n",
    "# Update the DataFrame with track and album cover URLs\n",
    "for index, row in tqdm(df.iterrows(), total=len(df), desc=\"Fetching URLs\"):\n",
    "    track_url, album_cover_url = get_track_info(row['track_name'], row['artist(s)_name'])\n",
    "    df.at[index, 'track_url'] = track_url\n",
    "    df.at[index, 'album_cover_url'] = album_cover_url\n",
    "\n",
    "# Display the first few rows of the updated DataFrame\n",
    "print(df[['track_name', 'artist(s)_name', 'track_url', 'album_cover_url']].head())\n",
    "\n",
    "# Save the updated DataFrame to a new CSV file\n",
    "df.to_csv('spotify-2023-with-urls.csv', index=False)\n",
    "print(\"\\nUpdated CSV file saved as 'spotify-2023-with-urls.csv'\")"
   ]
  },
  {
   "cell_type": "markdown",
   "id": "d61f4cec",
   "metadata": {},
   "source": [
    "**ai_message:**\n",
    "\n",
    "The Spotify API connection was successful this time, and I've added the track URLs and album cover URLs to the dataset. Here's a preview of the updated data:\n",
    "\n",
    "{outputs_dict[\"0062966f\"]}\n",
    "\n",
    "The updated CSV file has been saved as `spotify-2023-with-urls.csv`. You can download it from [here](https://julius.ai/files/spotify-2023-with-urls.csv)."
   ]
  }
 ],
 "metadata": {},
 "nbformat": 4,
 "nbformat_minor": 5
}